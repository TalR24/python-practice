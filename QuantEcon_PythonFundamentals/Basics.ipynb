{
 "cells": [
  {
   "cell_type": "code",
   "execution_count": 18,
   "id": "c6161331-8238-4055-bc13-99babc26c0c8",
   "metadata": {},
   "outputs": [],
   "source": [
    "# Basics section of QuantEcon course\n",
    "# Last edited: 5/8/22 by Tal Roded\n",
    "\n",
    "\n",
    "x = \"Hello World\""
   ]
  },
  {
   "cell_type": "code",
   "execution_count": 2,
   "id": "d0e67eaa-2c88-4226-b426-4ace8766db4d",
   "metadata": {},
   "outputs": [
    {
     "data": {
      "text/plain": [
       "'Hello World'"
      ]
     },
     "execution_count": 2,
     "metadata": {},
     "output_type": "execute_result"
    }
   ],
   "source": [
    "x"
   ]
  },
  {
   "cell_type": "code",
   "execution_count": 3,
   "id": "2da42e11-b72b-45e9-9b81-4996bdb9b914",
   "metadata": {},
   "outputs": [
    {
     "ename": "NameError",
     "evalue": "name 'y' is not defined",
     "output_type": "error",
     "traceback": [
      "\u001b[1;31m---------------------------------------------------------------------------\u001b[0m",
      "\u001b[1;31mNameError\u001b[0m                                 Traceback (most recent call last)",
      "\u001b[1;32m~\\AppData\\Local\\Temp/ipykernel_9624/3563912222.py\u001b[0m in \u001b[0;36m<module>\u001b[1;34m\u001b[0m\n\u001b[1;32m----> 1\u001b[1;33m \u001b[0my\u001b[0m\u001b[1;33m\u001b[0m\u001b[1;33m\u001b[0m\u001b[0m\n\u001b[0m",
      "\u001b[1;31mNameError\u001b[0m: name 'y' is not defined"
     ]
    }
   ],
   "source": [
    "y"
   ]
  },
  {
   "cell_type": "code",
   "execution_count": 4,
   "id": "074d27f8-d689-4640-ba76-ae13fa7c3974",
   "metadata": {},
   "outputs": [
    {
     "name": "stdout",
     "output_type": "stream",
     "text": [
      "2\n"
     ]
    }
   ],
   "source": [
    "x=2\n",
    "print(x)"
   ]
  },
  {
   "cell_type": "code",
   "execution_count": 5,
   "id": "bd59c5ef-c90d-444e-a599-df6be1833fdc",
   "metadata": {},
   "outputs": [
    {
     "data": {
      "text/plain": [
       "3"
      ]
     },
     "execution_count": 5,
     "metadata": {},
     "output_type": "execute_result"
    }
   ],
   "source": [
    "i=1 # assign 1 to i\n",
    "j=2 # assign 2 to j\n",
    "\n",
    "# We add i and j below this line\n",
    "i+j"
   ]
  },
  {
   "cell_type": "code",
   "execution_count": 8,
   "id": "c24a00c2-a3fc-4563-a5a3-c32e441753b9",
   "metadata": {},
   "outputs": [
    {
     "data": {
      "text/plain": [
       "\u001b[1;31mDocstring:\u001b[0m\n",
       "print(value, ..., sep=' ', end='\\n', file=sys.stdout, flush=False)\n",
       "\n",
       "Prints the values to a stream, or to sys.stdout by default.\n",
       "Optional keyword arguments:\n",
       "file:  a file-like object (stream); defaults to the current sys.stdout.\n",
       "sep:   string inserted between values, default a space.\n",
       "end:   string appended after the last value, default a newline.\n",
       "flush: whether to forcibly flush the stream.\n",
       "\u001b[1;31mType:\u001b[0m      builtin_function_or_method\n"
      ]
     },
     "metadata": {},
     "output_type": "display_data"
    }
   ],
   "source": [
    "print?"
   ]
  },
  {
   "cell_type": "code",
   "execution_count": 9,
   "id": "820188ba-8cdd-4099-ab48-41e9cffddcd7",
   "metadata": {},
   "outputs": [],
   "source": [
    "x=\"something else\""
   ]
  },
  {
   "cell_type": "code",
   "execution_count": 10,
   "id": "6a31a575-2779-4f3c-8d09-e12afce188cd",
   "metadata": {},
   "outputs": [
    {
     "data": {
      "text/plain": [
       "['something', 'else']"
      ]
     },
     "execution_count": 10,
     "metadata": {},
     "output_type": "execute_result"
    }
   ],
   "source": [
    "x.split()"
   ]
  },
  {
   "cell_type": "code",
   "execution_count": 11,
   "id": "3661b3a8-4d6d-4340-9d4b-f7174448c446",
   "metadata": {},
   "outputs": [],
   "source": [
    "import pandas as pd"
   ]
  },
  {
   "cell_type": "code",
   "execution_count": 12,
   "id": "ab31d172-385b-4460-b999-82a9646d85aa",
   "metadata": {},
   "outputs": [],
   "source": [
    "import numpy as np"
   ]
  },
  {
   "cell_type": "code",
   "execution_count": 13,
   "id": "a6b77919-9582-480c-b4fb-e3bb6aacbf40",
   "metadata": {},
   "outputs": [],
   "source": [
    "import matplotlib as mpl"
   ]
  },
  {
   "cell_type": "code",
   "execution_count": 2,
   "id": "6da59a8c-1614-42f2-b8cd-149eb8845373",
   "metadata": {},
   "outputs": [],
   "source": [
    "zf=1230.5\n",
    "zf2=1_230.5"
   ]
  },
  {
   "cell_type": "code",
   "execution_count": 3,
   "id": "6dc9ba42-40e7-4600-aa70-57a1ac1683ba",
   "metadata": {
    "scrolled": true
   },
   "outputs": [
    {
     "name": "stdout",
     "output_type": "stream",
     "text": [
      "1230.5\n",
      "1230.5\n"
     ]
    }
   ],
   "source": [
    "print(zf)\n",
    "print(zf2)"
   ]
  },
  {
   "cell_type": "code",
   "execution_count": 16,
   "id": "b2b9bee5-a44c-473f-be4a-4610a25d9f05",
   "metadata": {},
   "outputs": [
    {
     "name": "stdout",
     "output_type": "stream",
     "text": [
      "a + b is 6\n",
      "a - b is 2\n",
      "a * b is 8\n",
      "a / b is 2.0\n",
      "a ** b is 16\n",
      "a ^ b is 6\n"
     ]
    }
   ],
   "source": [
    "a = 4\n",
    "b = 2\n",
    "\n",
    "print(\"a + b is\", a + b)\n",
    "print(\"a - b is\", a - b)\n",
    "print(\"a * b is\", a * b)\n",
    "print(\"a / b is\", a / b)\n",
    "print(\"a ** b is\", a**b) # python uses ** for powers\n",
    "print(\"a ^ b is\", a^b)"
   ]
  },
  {
   "cell_type": "code",
   "execution_count": 17,
   "id": "2c136a6d-a8d4-4503-8c21-01e2f82c50ac",
   "metadata": {},
   "outputs": [
    {
     "name": "stdout",
     "output_type": "stream",
     "text": [
      "Vietnam had $223.9 billion GDP in 2017\n"
     ]
    }
   ],
   "source": [
    "country = \"Vietnam\"\n",
    "GDP = 223.9\n",
    "year = 2017\n",
    "my_string = f\"{country} had ${GDP} billion GDP in {year}\"\n",
    "print(my_string)"
   ]
  },
  {
   "cell_type": "code",
   "execution_count": 19,
   "id": "3af883ba-93d2-40ee-95d2-158873357583",
   "metadata": {},
   "outputs": [
    {
     "name": "stdout",
     "output_type": "stream",
     "text": [
      "z is 7\n"
     ]
    }
   ],
   "source": [
    "z = 3\n",
    "z = z + 4\n",
    "print(\"z is\", z)"
   ]
  },
  {
   "cell_type": "code",
   "execution_count": 22,
   "id": "cecdf1b1-8033-4382-9947-cc1a4f34696a",
   "metadata": {},
   "outputs": [
    {
     "data": {
      "text/plain": [
       "11"
      ]
     },
     "execution_count": 22,
     "metadata": {},
     "output_type": "execute_result"
    }
   ],
   "source": [
    "len(x)"
   ]
  },
  {
   "cell_type": "code",
   "execution_count": 23,
   "id": "d02bd54b-c5ce-46dd-a085-b470b2cf19d4",
   "metadata": {},
   "outputs": [],
   "source": [
    "import time"
   ]
  },
  {
   "cell_type": "code",
   "execution_count": 25,
   "id": "ff8d6c7d-c453-42fb-8f3a-ebc4235b2f08",
   "metadata": {},
   "outputs": [
    {
     "data": {
      "text/plain": [
       "time.struct_time(tm_year=2022, tm_mon=5, tm_mday=8, tm_hour=13, tm_min=59, tm_sec=18, tm_wday=6, tm_yday=128, tm_isdst=1)"
      ]
     },
     "execution_count": 25,
     "metadata": {},
     "output_type": "execute_result"
    }
   ],
   "source": [
    "time.localtime()"
   ]
  },
  {
   "cell_type": "code",
   "execution_count": 26,
   "id": "c4face96-668d-40a0-a34a-c5160d46c788",
   "metadata": {},
   "outputs": [
    {
     "name": "stdout",
     "output_type": "stream",
     "text": [
      "x has type <class 'list'>\n"
     ]
    },
    {
     "data": {
      "text/plain": [
       "[2.0, 9.1, 12.5]"
      ]
     },
     "execution_count": 26,
     "metadata": {},
     "output_type": "execute_result"
    }
   ],
   "source": [
    "## Collections\n",
    "\n",
    "x = [2.0, 9.1, 12.5]\n",
    "print(\"x has type\", type(x))\n",
    "x"
   ]
  },
  {
   "cell_type": "code",
   "execution_count": 27,
   "id": "676fdd47-c705-4374-851e-d308b6a276b0",
   "metadata": {},
   "outputs": [
    {
     "data": {
      "text/plain": [
       "12.5"
      ]
     },
     "execution_count": 27,
     "metadata": {},
     "output_type": "execute_result"
    }
   ],
   "source": [
    "x[2]"
   ]
  },
  {
   "cell_type": "code",
   "execution_count": 28,
   "id": "ee4d38ac-7981-439f-9f5e-1784ff27c78c",
   "metadata": {},
   "outputs": [
    {
     "data": {
      "text/plain": [
       "2.0"
      ]
     },
     "execution_count": 28,
     "metadata": {},
     "output_type": "execute_result"
    }
   ],
   "source": [
    "x[0]"
   ]
  },
  {
   "cell_type": "code",
   "execution_count": 29,
   "id": "80930665-cf04-432c-8742-78eddf1bbbbf",
   "metadata": {},
   "outputs": [
    {
     "ename": "IndexError",
     "evalue": "list index out of range",
     "output_type": "error",
     "traceback": [
      "\u001b[1;31m---------------------------------------------------------------------------\u001b[0m",
      "\u001b[1;31mIndexError\u001b[0m                                Traceback (most recent call last)",
      "\u001b[1;32m~\\AppData\\Local\\Temp/ipykernel_9624/2374535372.py\u001b[0m in \u001b[0;36m<module>\u001b[1;34m\u001b[0m\n\u001b[1;32m----> 1\u001b[1;33m \u001b[0mx\u001b[0m\u001b[1;33m[\u001b[0m\u001b[1;36m4\u001b[0m\u001b[1;33m]\u001b[0m\u001b[1;33m\u001b[0m\u001b[1;33m\u001b[0m\u001b[0m\n\u001b[0m",
      "\u001b[1;31mIndexError\u001b[0m: list index out of range"
     ]
    }
   ],
   "source": [
    "x[4]"
   ]
  },
  {
   "cell_type": "code",
   "execution_count": 36,
   "id": "3e79486a-4cac-414b-9b3e-3fcc1bbb23cd",
   "metadata": {},
   "outputs": [
    {
     "name": "stdout",
     "output_type": "stream",
     "text": [
      "[10, 25, 42, 1.0]\n",
      "[1.0, 10, 25, 42]\n",
      "[1.0, 10, 25, 42, 20]\n"
     ]
    }
   ],
   "source": [
    "# sort numbered list\n",
    "number_list = [10, 25, 42, 1.0]\n",
    "print(number_list)\n",
    "number_list.sort()\n",
    "print(number_list)\n",
    "number_list.append(20)\n",
    "print(number_list)"
   ]
  },
  {
   "cell_type": "code",
   "execution_count": 35,
   "id": "3ab549ce-8394-440b-bb54-d57237a170d4",
   "metadata": {},
   "outputs": [
    {
     "name": "stdout",
     "output_type": "stream",
     "text": [
      "['NY', 'AZ', 'TX']\n",
      "['AZ', 'NY', 'TX']\n"
     ]
    }
   ],
   "source": [
    "# sort strings list\n",
    "str_list = [\"NY\", \"AZ\", \"TX\"]\n",
    "print(str_list)\n",
    "str_list.sort()\n",
    "print(str_list)"
   ]
  },
  {
   "cell_type": "code",
   "execution_count": 37,
   "id": "eb4f6cfc-40ad-4213-b618-cd3c5feec846",
   "metadata": {},
   "outputs": [
    {
     "ename": "TypeError",
     "evalue": "'<' not supported between instances of 'str' and 'int'",
     "output_type": "error",
     "traceback": [
      "\u001b[1;31m---------------------------------------------------------------------------\u001b[0m",
      "\u001b[1;31mTypeError\u001b[0m                                 Traceback (most recent call last)",
      "\u001b[1;32m~\\AppData\\Local\\Temp/ipykernel_9624/2510456875.py\u001b[0m in \u001b[0;36m<module>\u001b[1;34m\u001b[0m\n\u001b[0;32m      1\u001b[0m \u001b[0mx\u001b[0m \u001b[1;33m=\u001b[0m \u001b[1;33m[\u001b[0m\u001b[1;36m2\u001b[0m\u001b[1;33m,\u001b[0m \u001b[1;34m\"hello\"\u001b[0m\u001b[1;33m,\u001b[0m \u001b[1;36m3.0\u001b[0m\u001b[1;33m]\u001b[0m\u001b[1;33m\u001b[0m\u001b[1;33m\u001b[0m\u001b[0m\n\u001b[1;32m----> 2\u001b[1;33m \u001b[0mx\u001b[0m\u001b[1;33m.\u001b[0m\u001b[0msort\u001b[0m\u001b[1;33m(\u001b[0m\u001b[1;33m)\u001b[0m\u001b[1;33m\u001b[0m\u001b[1;33m\u001b[0m\u001b[0m\n\u001b[0m",
      "\u001b[1;31mTypeError\u001b[0m: '<' not supported between instances of 'str' and 'int'"
     ]
    }
   ],
   "source": [
    "x = [2, \"hello\", 3.0]\n",
    "x.sort()"
   ]
  },
  {
   "cell_type": "code",
   "execution_count": 40,
   "id": "914038a8-c43c-47e1-b705-f77d08406452",
   "metadata": {},
   "outputs": [
    {
     "name": "stdout",
     "output_type": "stream",
     "text": [
      "type(r) <class 'range'>\n",
      "type(list(r)) <class 'list'>\n"
     ]
    }
   ],
   "source": [
    "r = range(5)\n",
    "print(\"type(r)\", type(r))\n",
    "list(r)\n",
    "print(\"type(list(r))\", type(list(r)))\n"
   ]
  },
  {
   "cell_type": "code",
   "execution_count": 41,
   "id": "2aeaa8df-0ff4-445e-97ae-931e698ec2a6",
   "metadata": {},
   "outputs": [
    {
     "name": "stdout",
     "output_type": "stream",
     "text": [
      "x = 1, y = test\n"
     ]
    }
   ],
   "source": [
    "x, y = (1, \"test\")\n",
    "print(f\"x = {x}, y = {y}\")"
   ]
  },
  {
   "cell_type": "code",
   "execution_count": 43,
   "id": "96481059-8cd3-4c2d-b00a-c54ae5194393",
   "metadata": {},
   "outputs": [
    {
     "name": "stdout",
     "output_type": "stream",
     "text": [
      "type(z) <class 'zip'>\n"
     ]
    },
    {
     "data": {
      "text/plain": [
       "[(2013, 9.607), (2014, 10.48), (2015, 11.06)]"
      ]
     },
     "execution_count": 43,
     "metadata": {},
     "output_type": "execute_result"
    }
   ],
   "source": [
    "# zip creates a list of tuples from the arguments provided\n",
    "gdp_data = [9.607, 10.48, 11.06]\n",
    "years = [2013, 2014, 2015]\n",
    "z = zip(years, gdp_data)\n",
    "print(\"type(z)\", type(z))\n",
    "list(z)"
   ]
  },
  {
   "cell_type": "code",
   "execution_count": 5,
   "id": "b75f0135-b4e7-4c00-adfb-21c3499f373c",
   "metadata": {},
   "outputs": [
    {
     "name": "stdout",
     "output_type": "stream",
     "text": [
      "type(e) <class 'enumerate'>\n"
     ]
    },
    {
     "data": {
      "text/plain": [
       "[(0, 'a'), (1, 'b'), (2, 'c')]"
      ]
     },
     "execution_count": 5,
     "metadata": {},
     "output_type": "execute_result"
    }
   ],
   "source": [
    "# enumerate creates a list of tuples but where one of the vectors is an index\n",
    "e = enumerate([\"a\", \"b\", \"c\"])\n",
    "print(\"type(e)\", type(e))\n",
    "e\n",
    "list(e)"
   ]
  },
  {
   "cell_type": "code",
   "execution_count": 9,
   "id": "cf78ee94",
   "metadata": {},
   "outputs": [
    {
     "name": "stdout",
     "output_type": "stream",
     "text": [
      "{'country': 'China', 'year': 2015, 'GDP': 11.06, 'population': 1.371}\n",
      "{'country': 'China', 'year': 2015, 'GDP': 11.06, 'population': 1.371}\n",
      "2015\n",
      "{'country': 'China', 'year': 2015, 'GDP': 11.06, 'population': 1.371, 'unemployment': '4.05%'}\n"
     ]
    },
    {
     "data": {
      "text/plain": [
       "['China', 2015, 11.06, 1.371, '4.05%']"
      ]
     },
     "execution_count": 9,
     "metadata": {},
     "output_type": "execute_result"
    }
   ],
   "source": [
    "# dictionaries associate keys with values\n",
    "# {\"key1\": value1, \"key2\": value2, ..., \"keyN\": valueN}\n",
    "# can write either way:\n",
    "china_data = {\"country\": \"China\", \"year\": 2015, \"GDP\" : 11.06, \"population\": 1.371}\n",
    "print(china_data)\n",
    "china_data = {\n",
    "    \"country\": \"China\",\n",
    "    \"year\": 2015,\n",
    "    \"GDP\" : 11.06,\n",
    "    \"population\": 1.371\n",
    "}\n",
    "print(china_data)\n",
    "print(china_data[\"year\"])\n",
    "# can easily add new values to a dictionary or update a value\n",
    "china_data[\"unemployment\"] = \"4.05%\"\n",
    "print(china_data)\n",
    "# get a list of all the keys\n",
    "list(china_data.keys())\n",
    "# get a list of all the values\n",
    "list(china_data.values())"
   ]
  },
  {
   "cell_type": "code",
   "execution_count": 13,
   "id": "08ba87d5",
   "metadata": {},
   "outputs": [
    {
     "ename": "IndentationError",
     "evalue": "expected an indented block (Temp/ipykernel_10956/3883658199.py, line 5)",
     "output_type": "error",
     "traceback": [
      "\u001b[1;36m  File \u001b[1;32m\"C:\\Users\\trode\\AppData\\Local\\Temp/ipykernel_10956/3883658199.py\"\u001b[1;36m, line \u001b[1;32m5\u001b[0m\n\u001b[1;33m    else:\u001b[0m\n\u001b[1;37m    ^\u001b[0m\n\u001b[1;31mIndentationError\u001b[0m\u001b[1;31m:\u001b[0m expected an indented block\n"
     ]
    }
   ],
   "source": [
    "## Control Flow\n",
    "# basic syntax for conditionals: (else clause is optional)\n",
    "if condition:\n",
    "    # code to run when condition is True\n",
    "else:\n",
    "    # code to run if no conditions above are True\n"
   ]
  },
  {
   "cell_type": "code",
   "execution_count": 14,
   "id": "d0643ce3",
   "metadata": {},
   "outputs": [
    {
     "name": "stdout",
     "output_type": "stream",
     "text": [
      "Halloween is in Q4\n"
     ]
    }
   ],
   "source": [
    "# use elif for multiple conditionals\n",
    "import datetime\n",
    "halloween = datetime.date(2017, 10, 31)\n",
    "\n",
    "if halloween.month > 9:\n",
    "    print(\"Halloween is in Q4\")\n",
    "elif halloween.month > 6:\n",
    "    print(\"Halloween is in Q3\")\n",
    "elif halloween.month > 3:\n",
    "    print(\"Halloween is in Q2\")\n",
    "else:\n",
    "    print(\"Halloween is in Q1\")\n",
    "    \n",
    "# note how only the code corresponding to the FIRST true value is run"
   ]
  },
  {
   "cell_type": "code",
   "execution_count": 16,
   "id": "2f1027fe",
   "metadata": {},
   "outputs": [
    {
     "name": "stdout",
     "output_type": "stream",
     "text": [
      "1**2 = 1\n",
      "2**2 = 4\n",
      "3**2 = 9\n",
      "4**2 = 16\n",
      "5**2 = 25\n",
      "6**2 = 36\n",
      "7**2 = 49\n",
      "8**2 = 64\n",
      "9**2 = 81\n",
      "10**2 = 100\n",
      "quarter 0 revenue is $5.12 million\n",
      "quarter 1 revenue is $5.2 million\n",
      "quarter 2 revenue is $5.5 million\n",
      "quarter 3 revenue is $6.5 million\n"
     ]
    }
   ],
   "source": [
    "# iterations with for loops\n",
    "# we can replace range with any iterables - lists, tuples, dicts, enumerate objects\n",
    "for i in range(1, 11):\n",
    "     print(f\"{i}**2 = {i**2}\")\n",
    "        \n",
    "# we can use enumerate to make our list - creates a tuple of the form (i, x)\n",
    "# revenue by quarter\n",
    "company_revenue = [5.12, 5.20, 5.50, 6.50]\n",
    "\n",
    "for index, value in enumerate(company_revenue):\n",
    "    print(f\"quarter {index} revenue is ${value} million\")"
   ]
  },
  {
   "cell_type": "code",
   "execution_count": 18,
   "id": "9799c3ee",
   "metadata": {},
   "outputs": [
    {
     "name": "stdout",
     "output_type": "stream",
     "text": [
      "The answer is 45\n",
      "The answer is 45\n"
     ]
    }
   ],
   "source": [
    "# while loops repeat until a condition is met\n",
    "total = 0\n",
    "i = 0\n",
    "while total <= 1000:\n",
    "    i = i + 1\n",
    "    total = total + i\n",
    "\n",
    "print(\"The answer is\", i)\n",
    "\n",
    "# equivalent for loop with a break:\n",
    "total = 0\n",
    "for i in range(1001):\n",
    "    total = total + i\n",
    "    if total > 1000:\n",
    "        break\n",
    "\n",
    "print(\"The answer is\", i)"
   ]
  },
  {
   "cell_type": "code",
   "execution_count": 22,
   "id": "258f7049",
   "metadata": {},
   "outputs": [
    {
     "data": {
      "text/plain": [
       "4.0"
      ]
     },
     "execution_count": 22,
     "metadata": {},
     "output_type": "execute_result"
    }
   ],
   "source": [
    "## Functions\n",
    "# basic syntax for defining a function\n",
    "def function_name(inputs):\n",
    "    # step 1\n",
    "    # step 2\n",
    "    # ...\n",
    "    return outputs\n",
    "# simple example:\n",
    "def mean(numbers):\n",
    "    total = sum(numbers)\n",
    "    N = len(numbers)\n",
    "    answer = total / N\n",
    "\n",
    "    return answer\n",
    "mean([1, 5, 6])"
   ]
  },
  {
   "cell_type": "code",
   "execution_count": 27,
   "id": "6bb048ba",
   "metadata": {},
   "outputs": [],
   "source": [
    "# often an explanation of a function is added to the first line, called a docstring\n",
    "def cobb_douglas(K, L):\n",
    "    \"\"\"\n",
    "    Computes the production F(K, L) for a Cobb-Douglas production function\n",
    "\n",
    "    Takes the form F(K, L) = z K^{\\alpha} L^{1 - \\alpha}\n",
    "\n",
    "    We restrict z = 1 and alpha = 0.33\n",
    "    \"\"\"\n",
    "    return 1.0 * K**(0.33) * L**(1.0 - 0.33)\n",
    "cobb_douglas(1, 0.5)\n",
    "# checking for documentation will cause the docstring to display\n",
    "cobb_douglas?"
   ]
  },
  {
   "cell_type": "code",
   "execution_count": 29,
   "id": "a177a88f",
   "metadata": {},
   "outputs": [
    {
     "name": "stdout",
     "output_type": "stream",
     "text": [
      "0.6285066872609142\n"
     ]
    },
    {
     "data": {
      "text/plain": [
       "1.0196485018554098"
      ]
     },
     "execution_count": 29,
     "metadata": {},
     "output_type": "execute_result"
    }
   ],
   "source": [
    "# we can also have optional arguments by creating defaults for the inputs\n",
    "def cobb_douglas(K, L, alpha=0.33, z=1):\n",
    "    \"\"\"\n",
    "    Computes the production F(K, L) for a Cobb-Douglas production function\n",
    "\n",
    "    Takes the form F(K, L) = z K^{\\alpha} L^{1 - \\alpha}\n",
    "    \"\"\"\n",
    "    return z * K**(alpha) * L**(1.0 - alpha)\n",
    "# only need to specify K and L\n",
    "print(cobb_douglas(1, 0.5))\n",
    "# but you can also override the defaults\n",
    "cobb_douglas(1.0, 0.5, 0.35, 1.6)"
   ]
  }
 ],
 "metadata": {
  "kernelspec": {
   "display_name": "Python 3 (ipykernel)",
   "language": "python",
   "name": "python3"
  },
  "language_info": {
   "codemirror_mode": {
    "name": "ipython",
    "version": 3
   },
   "file_extension": ".py",
   "mimetype": "text/x-python",
   "name": "python",
   "nbconvert_exporter": "python",
   "pygments_lexer": "ipython3",
   "version": "3.9.7"
  }
 },
 "nbformat": 4,
 "nbformat_minor": 5
}
